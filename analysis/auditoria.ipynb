{
 "cells": [
  {
   "cell_type": "code",
   "execution_count": 1,
   "id": "d7a75028-6966-4d2d-b6a5-7520a2cd6114",
   "metadata": {},
   "outputs": [
    {
     "name": "stdout",
     "output_type": "stream",
     "text": [
      "✅ Auditoría completa guardada como 'emg_auditado.csv'\n"
     ]
    }
   ],
   "source": [
    "import pandas as pd\n",
    "\n",
    "# Recargamos el dataset normalizado con score\n",
    "df_normalized = pd.read_csv('emg_normalized_labeled_score.csv')\n",
    "\n",
    "# Definimos los umbrales\n",
    "umbral = 0.3\n",
    "cols_analisis = ['maximum_e1', 'standard_deviation_e1', 'root_mean_square_e1', \n",
    "                 'zero_crossings_e1', 'wave_form_length_e1', 'willison_amplitude_e1']\n",
    "\n",
    "def auditar_fila(fila):\n",
    "    criterios_cumplidos = sum(fila[col] <= umbral for col in cols_analisis)\n",
    "    \n",
    "    # Calculamos el score esperado según los criterios\n",
    "    if criterios_cumplidos >= 5:\n",
    "        score_esperado = 3\n",
    "    elif criterios_cumplidos >= 3:\n",
    "        score_esperado = 2\n",
    "    elif criterios_cumplidos >= 1:\n",
    "        score_esperado = 1\n",
    "    else:\n",
    "        score_esperado = 0\n",
    "    \n",
    "    validacion = '✔️' if fila['gb_score'] == score_esperado else '❌'\n",
    "    \n",
    "    return pd.Series([criterios_cumplidos, score_esperado, fila['gb_score'], validacion],\n",
    "                     index=['criterios_cumplidos', 'gb_score_esperado', 'gb_score_asignado', 'validacion'])\n",
    "\n",
    "# Aplicamos la auditoría a todo el dataset\n",
    "df_auditoria = df_normalized.apply(auditar_fila, axis=1)\n",
    "\n",
    "# Unimos con las columnas clave del dataset original\n",
    "df_auditado = pd.concat([df_normalized[['gesture'] + cols_analisis], df_auditoria], axis=1)\n",
    "\n",
    "# Guardamos el resultado en CSV\n",
    "df_auditado.to_csv('emg_auditado.csv', index=False)\n",
    "\n",
    "print(\"✅ Auditoría completa guardada como 'emg_auditado.csv'\")\n"
   ]
  },
  {
   "cell_type": "code",
   "execution_count": 2,
   "id": "36cb61cd-9c93-486e-b6e5-fc2839f1fd82",
   "metadata": {},
   "outputs": [
    {
     "name": "stdout",
     "output_type": "stream",
     "text": [
      "validacion\n",
      "✔️    6822\n",
      "Name: count, dtype: int64\n",
      "📊 Inconsistencias detectadas: 0 de 6822 filas (0.00%)\n"
     ]
    }
   ],
   "source": [
    "# Conteo de validaciones\n",
    "conteo_validacion = df_auditado['validacion'].value_counts()\n",
    "\n",
    "# Mostrar resultado\n",
    "print(conteo_validacion)\n",
    "\n",
    "# Porcentaje de inconsistencias\n",
    "inconsistencias = conteo_validacion.get('❌', 0)\n",
    "porcentaje_inconsistencia = (inconsistencias / len(df_auditado)) * 100\n",
    "\n",
    "print(f\"📊 Inconsistencias detectadas: {inconsistencias} de {len(df_auditado)} filas ({porcentaje_inconsistencia:.2f}%)\")\n"
   ]
  },
  {
   "cell_type": "code",
   "execution_count": null,
   "id": "daf06f86-9355-423b-8dfa-3f59e9ca8315",
   "metadata": {},
   "outputs": [],
   "source": []
  }
 ],
 "metadata": {
  "kernelspec": {
   "display_name": "Python 3 (ipykernel)",
   "language": "python",
   "name": "python3"
  },
  "language_info": {
   "codemirror_mode": {
    "name": "ipython",
    "version": 3
   },
   "file_extension": ".py",
   "mimetype": "text/x-python",
   "name": "python",
   "nbconvert_exporter": "python",
   "pygments_lexer": "ipython3",
   "version": "3.12.3"
  }
 },
 "nbformat": 4,
 "nbformat_minor": 5
}
