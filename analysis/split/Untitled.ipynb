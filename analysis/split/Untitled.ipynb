{
 "cells": [
  {
   "cell_type": "code",
   "execution_count": 1,
   "id": "e70d3c8b-c485-40d4-88cb-afa62bae0792",
   "metadata": {},
   "outputs": [],
   "source": [
    "import pandas as pd"
   ]
  },
  {
   "cell_type": "code",
   "execution_count": 2,
   "id": "298d12a9-a469-4c98-b22c-7820fe61c9a9",
   "metadata": {},
   "outputs": [],
   "source": [
    "df_binary = pd.read_csv('../emg_balanced_binary.csv', keep_default_na=False)"
   ]
  },
  {
   "cell_type": "code",
   "execution_count": 3,
   "id": "35319790-a944-4968-82ad-ec07a518d7d3",
   "metadata": {},
   "outputs": [
    {
     "data": {
      "text/plain": [
       "array(['index_finger', 'middle_finger', 'ring_finger', 'little_finger',\n",
       "       'thumb', 'rest', 'victory_gesture', 'synthetic'], dtype=object)"
      ]
     },
     "execution_count": 3,
     "metadata": {},
     "output_type": "execute_result"
    }
   ],
   "source": [
    "df_binary['gesture'].unique()"
   ]
  },
  {
   "cell_type": "code",
   "execution_count": 4,
   "id": "6bb9079b-02da-4df4-afe2-dd0a6cd93e9a",
   "metadata": {},
   "outputs": [
    {
     "data": {
      "text/plain": [
       "gesture\n",
       "synthetic          24036\n",
       "little_finger       1084\n",
       "ring_finger         1045\n",
       "index_finger        1039\n",
       "middle_finger       1017\n",
       "thumb               1016\n",
       "victory_gesture      895\n",
       "rest                 726\n",
       "Name: count, dtype: int64"
      ]
     },
     "execution_count": 4,
     "metadata": {},
     "output_type": "execute_result"
    }
   ],
   "source": [
    "df_binary['gesture'].value_counts()"
   ]
  },
  {
   "cell_type": "code",
   "execution_count": 12,
   "id": "1e1aa841-ad2b-41a1-a51d-f33e742fce96",
   "metadata": {},
   "outputs": [],
   "source": [
    "# --- Importaciones necesarias ---\n",
    "import pandas as pd\n",
    "\n",
    "# --- Asumimos que 'df_binary' ya está cargado en memoria ---\n",
    "\n",
    "# --- 1. Definir los parámetros de selección ---\n",
    "\n",
    "# Número de filas deseadas por gesto antes de reducir a una única fila\n",
    "n_filas_por_gesto = 700  # Puedes ajustar este valor\n",
    "\n",
    "# Lista de gestos específicos a seleccionar (excluyendo 'synthetic')\n",
    "gestos_a_seleccionar = [\n",
    "    'index_finger',\n",
    "    'middle_finger',\n",
    "    'ring_finger',\n",
    "    'little_finger',\n",
    "    'thumb',\n",
    "    'rest',\n",
    "    'victory_gesture'\n",
    "]\n",
    "\n",
    "# --- 2. Crear DataFrames separados por 'gb_score' ---\n",
    "\n",
    "# Filtrar filas con gb_score == 1 (positivo)\n",
    "df_positivo = df_binary[df_binary['gb_score'] == 1]\n",
    "\n",
    "# Filtrar filas con gb_score == 0 (negativo)\n",
    "df_negativo = df_binary[df_binary['gb_score'] == 0]\n",
    "\n",
    "# --- 3. Seleccionar una muestra de filas por gesto para el DataFrame positivo ---\n",
    "\n",
    "# Inicializar lista para almacenar las muestras positivas\n",
    "muestras_positivas = []\n",
    "\n",
    "for gesto in gestos_a_seleccionar:\n",
    "    df_gesto = df_positivo[df_positivo['gesture'] == gesto]\n",
    "    disponible = len(df_gesto)\n",
    "\n",
    "    if disponible >= n_filas_por_gesto:\n",
    "        muestra_gesto = df_gesto.sample(n=n_filas_por_gesto, random_state=42)\n",
    "    else:\n",
    "        # Si no hay suficientes, tomar todas las disponibles\n",
    "        muestra_gesto = df_gesto.copy()\n",
    "    \n",
    "    muestras_positivas.append(muestra_gesto)\n",
    "\n",
    "muestra_positivo = pd.concat(muestras_positivas, ignore_index=True)\n",
    "\n",
    "# --- 4. Seleccionar una muestra de filas por gesto para el DataFrame negativo ---\n",
    "\n",
    "# Inicializar lista para almacenar las muestras negativas\n",
    "muestras_negativas = []\n",
    "\n",
    "for gesto in gestos_a_seleccionar:\n",
    "    df_gesto = df_negativo[df_negativo['gesture'] == gesto]\n",
    "    disponible = len(df_gesto)\n",
    "\n",
    "    if disponible >= n_filas_por_gesto:\n",
    "        muestra_gesto = df_gesto.sample(n=n_filas_por_gesto, random_state=42)\n",
    "    else:\n",
    "        muestra_gesto = df_gesto.copy()\n",
    "    \n",
    "    muestras_negativas.append(muestra_gesto)\n",
    "\n",
    "muestra_negativo = pd.concat(muestras_negativas, ignore_index=True)\n",
    "\n",
    "# --- 5. Dejar UNA ÚNICA FILA por gesto (selección aleatoria) ---\n",
    "\n",
    "# Para muestra_positivo\n",
    "muestra_positivo_unica = (\n",
    "    muestra_positivo\n",
    "    .groupby('gesture', group_keys=False)\n",
    "    .apply(lambda x: x.sample(1, random_state=42), include_groups=False)  # <- Cambiado\n",
    "    .reset_index(drop=True)\n",
    ")\n",
    "\n",
    "# Para muestra_negativo\n",
    "muestra_negativo_unica = (\n",
    "    muestra_negativo\n",
    "    .groupby('gesture', group_keys=False)\n",
    "    .apply(lambda x: x.sample(1, random_state=42), include_groups=False)  # <- Cambiado\n",
    "    .reset_index(drop=True)\n",
    ")\n",
    "\n",
    "# --- 6. Guardar los DataFrames resultantes en archivos CSV ---\n",
    "\n",
    "# Muestras completas (antes de reducción a una fila)\n",
    "muestra_positivo.to_csv('muestra_positiva_gestos.csv', index=False)\n",
    "muestra_negativo.to_csv('muestra_negativa_gestos.csv', index=False)\n",
    "\n",
    "# Muestras reducidas (una fila por gesto)\n",
    "muestra_positivo_unica.to_csv('muestra_positiva_gestos_UNICA.csv', index=False)\n",
    "muestra_negativo_unica.to_csv('muestra_negativa_gestos_UNICA.csv', index=False)\n",
    "\n",
    "# --- Fin del Script ---\n"
   ]
  },
  {
   "cell_type": "code",
   "execution_count": 1,
   "id": "f92ef008-1539-41d6-b841-d3b357651f96",
   "metadata": {},
   "outputs": [],
   "source": [
    "import pandas as pd"
   ]
  },
  {
   "cell_type": "code",
   "execution_count": 2,
   "id": "b72a8711-4941-4e16-a93d-9f0aa66ff3b2",
   "metadata": {},
   "outputs": [
    {
     "data": {
      "text/plain": [
       "Index(['standard_deviation_e1', 'standard_deviation_e2',\n",
       "       'standard_deviation_e3', 'standard_deviation_e4',\n",
       "       'standard_deviation_e5', 'standard_deviation_e6',\n",
       "       'standard_deviation_e7', 'standard_deviation_e8', 'root_mean_square_e1',\n",
       "       'root_mean_square_e2', 'root_mean_square_e3', 'root_mean_square_e4',\n",
       "       'root_mean_square_e5', 'root_mean_square_e6', 'root_mean_square_e7',\n",
       "       'root_mean_square_e8', 'minimum_e1', 'minimum_e2', 'minimum_e3',\n",
       "       'minimum_e4', 'minimum_e5', 'minimum_e6', 'minimum_e7', 'minimum_e8',\n",
       "       'maximum_e1', 'maximum_e2', 'maximum_e3', 'maximum_e4', 'maximum_e5',\n",
       "       'maximum_e6', 'maximum_e7', 'maximum_e8', 'zero_crossings_e1',\n",
       "       'zero_crossings_e2', 'zero_crossings_e3', 'zero_crossings_e4',\n",
       "       'zero_crossings_e5', 'zero_crossings_e6', 'zero_crossings_e7',\n",
       "       'zero_crossings_e8', 'average_amplitude_change_e1',\n",
       "       'average_amplitude_change_e2', 'average_amplitude_change_e3',\n",
       "       'average_amplitude_change_e4', 'average_amplitude_change_e5',\n",
       "       'average_amplitude_change_e6', 'average_amplitude_change_e7',\n",
       "       'average_amplitude_change_e8', 'amplitude_first_burst_e1',\n",
       "       'amplitude_first_burst_e2', 'amplitude_first_burst_e3',\n",
       "       'amplitude_first_burst_e4', 'amplitude_first_burst_e5',\n",
       "       'amplitude_first_burst_e6', 'amplitude_first_burst_e7',\n",
       "       'amplitude_first_burst_e8', 'mean_absolute_value_e1',\n",
       "       'mean_absolute_value_e2', 'mean_absolute_value_e3',\n",
       "       'mean_absolute_value_e4', 'mean_absolute_value_e5',\n",
       "       'mean_absolute_value_e6', 'mean_absolute_value_e7',\n",
       "       'mean_absolute_value_e8', 'wave_form_length_e1', 'wave_form_length_e2',\n",
       "       'wave_form_length_e3', 'wave_form_length_e4', 'wave_form_length_e5',\n",
       "       'wave_form_length_e6', 'wave_form_length_e7', 'wave_form_length_e8',\n",
       "       'willison_amplitude_e1', 'willison_amplitude_e2',\n",
       "       'willison_amplitude_e3', 'willison_amplitude_e4',\n",
       "       'willison_amplitude_e5', 'willison_amplitude_e6',\n",
       "       'willison_amplitude_e7', 'willison_amplitude_e8', 'label', 'gb_score',\n",
       "       'is_synthetic'],\n",
       "      dtype='object')"
      ]
     },
     "execution_count": 2,
     "metadata": {},
     "output_type": "execute_result"
    }
   ],
   "source": [
    "muestra_pos = pd.read_csv('muestra_positiva_gestos_UNICA.csv', keep_default_na=False)\n",
    "muestra_pos.columns"
   ]
  },
  {
   "cell_type": "code",
   "execution_count": 6,
   "id": "da165f30-1f2d-42dd-8121-63594608e9e7",
   "metadata": {},
   "outputs": [],
   "source": [
    "import pandas as pd\n",
    "\n",
    "# Se asume que df_binary ya está cargado en memoria\n",
    "\n",
    "# Gestos seleccionados\n",
    "gestos_a_seleccionar = [\n",
    "    'index_finger',\n",
    "    'middle_finger',\n",
    "    'ring_finger',\n",
    "    'little_finger',\n",
    "    'thumb',\n",
    "    'rest',\n",
    "    'victory_gesture'\n",
    "]\n",
    "\n",
    "# Separar en positivos y negativos\n",
    "df_positivo = df_binary[df_binary['gb_score'] == 1]\n",
    "df_negativo = df_binary[df_binary['gb_score'] == 0]\n",
    "\n",
    "# Seleccionar una única fila por gesto en positivos\n",
    "muestra_positivo_unica = df_positivo[df_positivo['gesture'].isin(gestos_a_seleccionar)] \\\n",
    "                         .groupby('gesture', group_keys=False).head(1)\n",
    "\n",
    "# Seleccionar una única fila por gesto en negativos\n",
    "muestra_negativo_unica = df_negativo[df_negativo['gesture'].isin(gestos_a_seleccionar)] \\\n",
    "                         .groupby('gesture', group_keys=False).head(1)\n",
    "\n",
    "# Guardar muestras únicas\n",
    "muestra_positivo_unica.to_csv(\"muestra_positiva_gestos_UNICA.csv\", index=False)\n",
    "muestra_negativo_unica.to_csv(\"muestra_negativa_gestos_UNICA.csv\", index=False)\n",
    "\n",
    "# Combinar muestras para excluirlas del dataset original\n",
    "filas_a_excluir = pd.concat([muestra_positivo_unica, muestra_negativo_unica])\n",
    "\n",
    "# Eliminar por índice del DataFrame original\n",
    "emg_binary_final = df_binary.drop(index=filas_a_excluir.index)\n",
    "\n",
    "# Guardar el dataset filtrado\n",
    "emg_binary_final.to_csv(\"emg_binary_final.csv\", index=False)\n"
   ]
  },
  {
   "cell_type": "code",
   "execution_count": null,
   "id": "0e5f67e0-dd60-46e9-9afb-3ddd9b5b4397",
   "metadata": {},
   "outputs": [],
   "source": []
  }
 ],
 "metadata": {
  "kernelspec": {
   "display_name": "Python 3 (ipykernel)",
   "language": "python",
   "name": "python3"
  },
  "language_info": {
   "codemirror_mode": {
    "name": "ipython",
    "version": 3
   },
   "file_extension": ".py",
   "mimetype": "text/x-python",
   "name": "python",
   "nbconvert_exporter": "python",
   "pygments_lexer": "ipython3",
   "version": "3.12.3"
  }
 },
 "nbformat": 4,
 "nbformat_minor": 5
}
