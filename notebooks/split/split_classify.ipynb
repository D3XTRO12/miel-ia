{
 "cells": [
  {
   "cell_type": "code",
   "execution_count": 3,
   "id": "1e1aa841-ad2b-41a1-a51d-f33e742fce96",
   "metadata": {},
   "outputs": [
    {
     "name": "stdout",
     "output_type": "stream",
     "text": [
      "⚠️ Gesto 'rest' con score 1 no encontrado. Agregando fila sintética.\n",
      "✅ Archivos generados:\n",
      "- split_score_1.csv\n",
      "- split_score_2.csv\n",
      "- split_score_3.csv\n",
      "- emg_classify_final.csv\n"
     ]
    }
   ],
   "source": [
    "import pandas as pd\n",
    "\n",
    "# Cargar dataset multicategoría\n",
    "df = pd.read_csv(\"../emg_balanced_classify.csv\", keep_default_na=False)\n",
    "\n",
    "# Inicializar columna para marcar datos sintéticos\n",
    "df[\"is_synthetic\"] = False\n",
    "\n",
    "# Gestos requeridos\n",
    "gestos_a_seleccionar = [\n",
    "    'index_finger',\n",
    "    'middle_finger',\n",
    "    'ring_finger',\n",
    "    'little_finger',\n",
    "    'thumb',\n",
    "    'rest',\n",
    "    'victory_gesture'\n",
    "]\n",
    "\n",
    "# Contenedor para guardar los índices seleccionados\n",
    "indices_seleccionados = []\n",
    "\n",
    "# Recorrer cada score (1, 2, 3)\n",
    "for score in [1, 2, 3]:\n",
    "    df_score = df[df[\"gb_score\"] == score]\n",
    "    muestras = []\n",
    "\n",
    "    for gesto in gestos_a_seleccionar:\n",
    "        gesto_df = df_score[df_score[\"gesture\"] == gesto]\n",
    "\n",
    "        if not gesto_df.empty:\n",
    "            fila = gesto_df.sample(n=1, random_state=42)\n",
    "        else:\n",
    "            # Fila sintética si no hay gesto con este score\n",
    "            print(f\"⚠️ Gesto '{gesto}' con score {score} no encontrado. Agregando fila sintética.\")\n",
    "            gesto_base_df = df[df[\"gesture\"] == gesto]\n",
    "            if not gesto_base_df.empty:\n",
    "                fila = gesto_base_df.sample(n=1, random_state=42).copy()\n",
    "                fila[\"gb_score\"] = score\n",
    "                fila[\"is_synthetic\"] = True\n",
    "            else:\n",
    "                print(f\"🚫 No hay ninguna fila con el gesto '{gesto}' en todo el dataset.\")\n",
    "                continue\n",
    "\n",
    "        muestras.append(fila)\n",
    "        indices_seleccionados.append(fila.index[0])\n",
    "\n",
    "    # Concatenar y guardar\n",
    "    df_split = pd.concat(muestras).reset_index(drop=True)\n",
    "    df_split.to_csv(f\"split_score_{score}.csv\", index=False)\n",
    "\n",
    "# Eliminar las filas seleccionadas del dataset original para el archivo final\n",
    "df_final = df.drop(index=indices_seleccionados).reset_index(drop=True)\n",
    "df_final.to_csv(\"emg_classify_final.csv\", index=False)\n",
    "\n",
    "print(\"✅ Archivos generados:\")\n",
    "print(\"- split_score_1.csv\")\n",
    "print(\"- split_score_2.csv\")\n",
    "print(\"- split_score_3.csv\")\n",
    "print(\"- emg_classify_final.csv\")\n"
   ]
  },
  {
   "cell_type": "code",
   "execution_count": null,
   "id": "0e5f67e0-dd60-46e9-9afb-3ddd9b5b4397",
   "metadata": {},
   "outputs": [],
   "source": []
  }
 ],
 "metadata": {
  "kernelspec": {
   "display_name": "Python 3 (ipykernel)",
   "language": "python",
   "name": "python3"
  },
  "language_info": {
   "codemirror_mode": {
    "name": "ipython",
    "version": 3
   },
   "file_extension": ".py",
   "mimetype": "text/x-python",
   "name": "python",
   "nbconvert_exporter": "python",
   "pygments_lexer": "ipython3",
   "version": "3.12.3"
  }
 },
 "nbformat": 4,
 "nbformat_minor": 5
}
