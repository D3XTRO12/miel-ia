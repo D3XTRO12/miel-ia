{
 "cells": [
  {
   "cell_type": "code",
   "execution_count": 1,
   "id": "f4cce6f1-c8b0-4c84-8ad9-f6228ca4fb97",
   "metadata": {},
   "outputs": [],
   "source": [
    "import pandas as pd\n",
    "import numpy as np\n"
   ]
  },
  {
   "cell_type": "code",
   "execution_count": 3,
   "id": "a5b35e80-aed0-497a-9d62-5042b4e44fc8",
   "metadata": {},
   "outputs": [
    {
     "name": "stdout",
     "output_type": "stream",
     "text": [
      "Archivo archivo_procesado_1.csv creado con 7 registros\n",
      "Archivo archivo_procesado_2.csv creado con 7 registros\n",
      "Archivo archivo_procesado_3.csv creado con 7 registros\n"
     ]
    },
    {
     "name": "stderr",
     "output_type": "stream",
     "text": [
      "/tmp/ipykernel_21995/3506916429.py:15: DeprecationWarning: DataFrameGroupBy.apply operated on the grouping columns. This behavior is deprecated, and in a future version of pandas the grouping columns will be excluded from the operation. Either pass `include_groups=False` to exclude the groupings or explicitly select the grouping columns after groupby to silence this warning.\n",
      "  df_sample = df_filtrado.groupby('gesture').apply(lambda x: x.sample(1)).reset_index(drop=True)\n",
      "/tmp/ipykernel_21995/3506916429.py:15: DeprecationWarning: DataFrameGroupBy.apply operated on the grouping columns. This behavior is deprecated, and in a future version of pandas the grouping columns will be excluded from the operation. Either pass `include_groups=False` to exclude the groupings or explicitly select the grouping columns after groupby to silence this warning.\n",
      "  df_sample = df_filtrado.groupby('gesture').apply(lambda x: x.sample(1)).reset_index(drop=True)\n",
      "/tmp/ipykernel_21995/3506916429.py:15: DeprecationWarning: DataFrameGroupBy.apply operated on the grouping columns. This behavior is deprecated, and in a future version of pandas the grouping columns will be excluded from the operation. Either pass `include_groups=False` to exclude the groupings or explicitly select the grouping columns after groupby to silence this warning.\n",
      "  df_sample = df_filtrado.groupby('gesture').apply(lambda x: x.sample(1)).reset_index(drop=True)\n"
     ]
    }
   ],
   "source": [
    "# Cargar el archivo CSV original (reemplaza 'tu_archivo.csv' con tu ruta)\n",
    "df_original = pd.read_csv('emg_balanceado_sintetico_realista.csv', keep_default_na=False)\n",
    "\n",
    "# Función para crear un archivo procesado\n",
    "def crear_archivo_procesado(df, num_archivo):\n",
    "    # Filtrar para excluir filas donde gesture == 'synthetic'\n",
    "    df_filtrado = df[df['gesture'] != 'synthetic'].copy()\n",
    "    \n",
    "    # Verificar que hay datos después del filtrado\n",
    "    if df_filtrado.empty:\n",
    "        print(f\"Advertencia: No hay datos válidos después de filtrar 'synthetic' para el archivo {num_archivo}\")\n",
    "        return\n",
    "    \n",
    "    # Seleccionar una fila aleatoria por cada valor único en 'gesture' (excluyendo 'synthetic')\n",
    "    df_sample = df_filtrado.groupby('gesture').apply(lambda x: x.sample(1)).reset_index(drop=True)\n",
    "    \n",
    "    # Eliminar columnas no deseadas\n",
    "    columnas_a_eliminar = ['gb_score', 'is_synthetic', 'label']\n",
    "    # Verificar que las columnas existan antes de eliminarlas\n",
    "    columnas_a_eliminar = [col for col in columnas_a_eliminar if col in df_sample.columns]\n",
    "    df_sample = df_sample.drop(columns=columnas_a_eliminar)\n",
    "    \n",
    "    # Guardar el nuevo archivo\n",
    "    nombre_archivo = f'archivo_procesado_{num_archivo}.csv'\n",
    "    df_sample.to_csv(nombre_archivo, index=False)\n",
    "    print(f\"Archivo {nombre_archivo} creado con {len(df_sample)} registros\")\n",
    "\n",
    "# Crear los 3 archivos\n",
    "for i in range(1, 4):\n",
    "    crear_archivo_procesado(df_original, i)"
   ]
  },
  {
   "cell_type": "code",
   "execution_count": null,
   "id": "114862f7-5ef1-42f9-8c75-2d88f8e08d74",
   "metadata": {},
   "outputs": [],
   "source": []
  }
 ],
 "metadata": {
  "kernelspec": {
   "display_name": "Python 3 (ipykernel)",
   "language": "python",
   "name": "python3"
  },
  "language_info": {
   "codemirror_mode": {
    "name": "ipython",
    "version": 3
   },
   "file_extension": ".py",
   "mimetype": "text/x-python",
   "name": "python",
   "nbconvert_exporter": "python",
   "pygments_lexer": "ipython3",
   "version": "3.12.3"
  }
 },
 "nbformat": 4,
 "nbformat_minor": 5
}
